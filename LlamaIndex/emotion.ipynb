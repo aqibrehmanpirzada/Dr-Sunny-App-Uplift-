{
 "cells": [
  {
   "cell_type": "markdown",
   "metadata": {},
   "source": [
    "# Importing Libraries and Initializing Components"
   ]
  },
  {
   "cell_type": "code",
   "execution_count": null,
   "metadata": {},
   "outputs": [],
   "source": [
    "import os\n",
    "import llama_index\n",
    "from langchain import OpenAI\n",
    "from llama_index.core.node_parser import SimpleNodeParser\n",
    "from llama_index.core.retrievers import VectorIndexRetriever\n",
    "from llama_index.core.query_engine import RetrieverQueryEngine\n",
    "from llama_index.core import SimpleDirectoryReader, VectorStoreIndex"
   ]
  },
  {
   "cell_type": "markdown",
   "metadata": {},
   "source": [
    "### $Description:$\n",
    "- Imports necessary libraries and modules for the project.\n",
    "- `os`: Provides functions for interacting with the operating system.\n",
    "- `llama_index`, `langchain`: Custom modules or libraries used in the project.\n",
    "- `SimpleNodeParser`, `VectorIndexRetriever`, `RetrieverQueryEngine`: Components of the llama_index module for parsing nodes, retrieving vectors, and querying the index.\n",
    "- `SimpleDirectoryReader`, `VectorStoreIndex`: Additional components from llama_index for reading directories and storing vectors."
   ]
  },
  {
   "cell_type": "markdown",
   "metadata": {},
   "source": [
    "# Loading and Preparing Data"
   ]
  },
  {
   "cell_type": "code",
   "execution_count": null,
   "metadata": {},
   "outputs": [],
   "source": [
    "reader = SimpleDirectoryReader(input_dir=\"./data/\")\n",
    "documents = reader.load_data()\n",
    "parser = SimpleNodeParser()\n",
    "nodes = parser.get_nodes_from_documents(documents)"
   ]
  },
  {
   "cell_type": "markdown",
   "metadata": {},
   "source": [
    "### $Description:$\n",
    "- Creates a `SimpleDirectoryReader` object to read data from the specified directory.\n",
    "- Loads data using the `load_data()` method of the reader.\n",
    "- Initializes a `SimpleNodeParser` object to parse nodes from the loaded documents.\n",
    "- Retrieves nodes from the parsed documents using `get_nodes_from_documents()` method of the parser."
   ]
  },
  {
   "cell_type": "markdown",
   "metadata": {},
   "source": [
    "# Setting Up OpenAI API Key and Index"
   ]
  },
  {
   "cell_type": "code",
   "execution_count": null,
   "metadata": {},
   "outputs": [],
   "source": [
    "os.environ[\"OPENAI_API_KEY\"] = \"sk-proj-ji30w0QTyo9vcs0tiF4jT3BlbkFJ8qUTH0ksfo9f98cgzySw\"\n",
    "index = VectorStoreIndex(nodes)"
   ]
  },
  {
   "cell_type": "markdown",
   "metadata": {},
   "source": [
    "### $Description:$\n",
    "- Sets the OpenAI API key in the environment variable to authenticate API requests.\n",
    "- Creates a `VectorStoreIndex` object using the parsed nodes, ready for indexing and retrieval operations."
   ]
  },
  {
   "cell_type": "markdown",
   "metadata": {},
   "source": [
    "# Initializing Retriever and Query Engine"
   ]
  },
  {
   "cell_type": "code",
   "execution_count": null,
   "metadata": {},
   "outputs": [],
   "source": [
    "retriever = VectorIndexRetriever(\n",
    "    index=index,\n",
    "    similarity_top_k=2,\n",
    ")\n",
    "\n",
    "query_engine = RetrieverQueryEngine(\n",
    "    retriever=retriever\n",
    ")"
   ]
  },
  {
   "cell_type": "markdown",
   "metadata": {},
   "source": [
    "### $Description:$\n",
    "- Initializes a `VectorIndexRetriever` object with the index and specifies the top-k similarity for `retrievals`.\n",
    "- Creates a `RetrieverQueryEngine` object using the `retriever`, enabling queries on the indexed data."
   ]
  },
  {
   "cell_type": "markdown",
   "metadata": {},
   "source": [
    "# Performing Query and Displaying Response"
   ]
  },
  {
   "cell_type": "code",
   "execution_count": null,
   "metadata": {},
   "outputs": [],
   "source": [
    "def start_counseling(user_input):\n",
    "    while True:\n",
    "        negative_keywords = ['sad', 'disturb', 'demotivated', 'angry']\n",
    "        if any(word in user_input.lower() for word in negative_keywords):\n",
    "            print(\"Welcome! Let's start counseling.\")\n",
    "\n",
    "        else:\n",
    "            print(\"Hello! How can I assist you today?\")\n",
    "\n",
    "        user_input = input(\"How are you feeling today? \")\n",
    "\n",
    "        exit_keywords = ['bye', 'ok bye', 'quit', 'exit']\n",
    "        if any(word in user_input.lower() for word in exit_keywords):\n",
    "            print(\"Ending counseling session. Take care!\")\n",
    "            break\n",
    "\n",
    "        if any(word in user_input.lower() for word in negative_keywords):\n",
    "            user_input = input(\"Would you like to talk more about it? \")\n",
    "        else:\n",
    "            user_input = input(\"How can I help you today? \")\n",
    "\n",
    "        response = query_engine.query(user_input)\n",
    "        print(response)\n",
    "\n",
    "user_input = input(\"How are you feeling today? \")\n",
    "start_counseling(user_input)"
   ]
  },
  {
   "cell_type": "markdown",
   "metadata": {},
   "source": [
    "### $Description:$\n",
    "\n",
    "- Defines a function `start_counseling()` to initiate counseling based on user input.\n",
    "- Collects user input regarding their feelings or needs.\n",
    "- Decides on the counseling approach based on the user's response and interacts accordingly.\n",
    "- Executes a query based on the user input using the query engine and prints the response."
   ]
  }
 ],
 "metadata": {
  "kernelspec": {
   "display_name": "Python 3",
   "language": "python",
   "name": "python3"
  },
  "language_info": {
   "codemirror_mode": {
    "name": "ipython",
    "version": 3
   },
   "file_extension": ".py",
   "mimetype": "text/x-python",
   "name": "python",
   "nbconvert_exporter": "python",
   "pygments_lexer": "ipython3",
   "version": "3.12.2"
  }
 },
 "nbformat": 4,
 "nbformat_minor": 2
}
